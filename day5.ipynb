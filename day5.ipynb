{
 "cells": [
  {
   "cell_type": "code",
   "execution_count": 28,
   "metadata": {},
   "outputs": [],
   "source": [
    "def str2tup(astr):\n",
    "    \n",
    "    a, b = astr.split(\",\")\n",
    "    return((int(a), int(b)))\n",
    "\n",
    "nums = []\n",
    "with open(\"input5.txt\", \"r\") as f:\n",
    "    for x in f.readlines():\n",
    "        q = x.rstrip(\"\\n\")\n",
    "        start, fin = q.split(\" -> \")\n",
    "        nums.append((str2tup(start), str2tup(fin)))\n"
   ]
  },
  {
   "cell_type": "code",
   "execution_count": 30,
   "metadata": {},
   "outputs": [],
   "source": [
    "class Line:\n",
    "    \n",
    "    def __init__(self, start, end):\n",
    "        \n",
    "        self.startx = min(start[0],end[0])\n",
    "        self.starty = min(start[1],end[1])\n",
    "        self.endx = max(start[0],end[0])\n",
    "        self.endy = max(start[1],end[1])\n",
    "        # always increasing along each axis\n",
    "        self.length = ((self.endx-self.startx)**2 + (self.endy-self.starty)**2)**0.5            \n",
    "        \n",
    "        \n",
    "        \n",
    "    def intersects(self, line):\n",
    "        \n",
    "        return is_between(line.startx, self.startx, self.endx) and is_between(self.starty, line.starty, line.endy)\n",
    "\n",
    "    def is_horizontal(self):\n",
    "        \n",
    "        return self.starty == self.endy\n",
    "    \n",
    "    def is_vertical(self):\n",
    "    \n",
    "        return self.startx == self.endx\n",
    "    \n",
    "    def get_overlap(self, line):\n",
    "        \n",
    "        if self.startx == line.startx:\n",
    "            return overlap(self.startx, self.endx, line.startx, line.endx)            \n",
    "        elif self.starty == line.starty:\n",
    "            return overlap(self.starty, self.endy, line.starty, line.endy)   \n",
    "        else:\n",
    "            if self.intersects(line):\n",
    "                return 1\n",
    "            return 0\n",
    "    \n",
    "def overlap(s1, e1, s2, e2):\n",
    "    \n",
    "    \"\"\"overlap between two ranges\"\"\"\n",
    "    \n",
    "    e1 = e1 + 1\n",
    "    e2 = e2 + 1\n",
    "    \n",
    "    if s1 > s2:\n",
    "        if e1 > e2:\n",
    "            res = e2 - s1\n",
    "        else:\n",
    "            res = e1 - s1\n",
    "    else:\n",
    "        if e1 > e2:\n",
    "            res = e2 - s2\n",
    "        else:\n",
    "            res = e1 - s2\n",
    "            \n",
    "    return max(res, 0)\n",
    "\n",
    "def is_between(p1, p2, p3):\n",
    "        \n",
    "    \"\"\"Return True if p1 is between p2 and p3\"\"\"\n",
    "        \n",
    "    return p2 < p1 < p3 or p2 > p1 > p3\n",
    "        \n",
    "    \n",
    "    "
   ]
  },
  {
   "cell_type": "code",
   "execution_count": 31,
   "metadata": {},
   "outputs": [],
   "source": [
    "lines = [Line(*x) for x in nums]\n",
    "horz = [x for x in lines if (x.is_horizontal() or x.is_vertical())]"
   ]
  },
  {
   "cell_type": "code",
   "execution_count": 32,
   "metadata": {},
   "outputs": [],
   "source": [
    "cnt = 0\n",
    "for x in horz:\n",
    "    for y in horz:\n",
    "        if x is not y:\n",
    "            cnt += x.get_overlap(y)"
   ]
  },
  {
   "cell_type": "code",
   "execution_count": 19,
   "metadata": {},
   "outputs": [
    {
     "data": {
      "text/plain": [
       "37954.0"
      ]
     },
     "execution_count": 19,
     "metadata": {},
     "output_type": "execute_result"
    }
   ],
   "source": [
    "#37954 too high, 700 odd too low\n",
    "#18557 wrong"
   ]
  },
  {
   "cell_type": "code",
   "execution_count": 34,
   "metadata": {},
   "outputs": [
    {
     "data": {
      "text/plain": [
       "18775"
      ]
     },
     "execution_count": 34,
     "metadata": {},
     "output_type": "execute_result"
    }
   ],
   "source": [
    "cnt"
   ]
  },
  {
   "cell_type": "code",
   "execution_count": 26,
   "metadata": {},
   "outputs": [
    {
     "data": {
      "text/plain": [
       "328"
      ]
     },
     "execution_count": 26,
     "metadata": {},
     "output_type": "execute_result"
    }
   ],
   "source": [
    "len(horz)"
   ]
  },
  {
   "cell_type": "code",
   "execution_count": null,
   "metadata": {},
   "outputs": [],
   "source": [
    "#2979 too low"
   ]
  }
 ],
 "metadata": {
  "kernelspec": {
   "display_name": "Python 3",
   "language": "python",
   "name": "python3"
  },
  "language_info": {
   "codemirror_mode": {
    "name": "ipython",
    "version": 3
   },
   "file_extension": ".py",
   "mimetype": "text/x-python",
   "name": "python",
   "nbconvert_exporter": "python",
   "pygments_lexer": "ipython3",
   "version": "3.8.1"
  }
 },
 "nbformat": 4,
 "nbformat_minor": 4
}
