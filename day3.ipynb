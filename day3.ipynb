{
 "cells": [
  {
   "cell_type": "code",
   "execution_count": 1,
   "metadata": {},
   "outputs": [],
   "source": [
    "myls = []\n",
    "with open(\"input3.txt\", \"r\") as f:\n",
    "    for x in f.readlines():\n",
    "        myls.append(x.rstrip(\"\\n\"))"
   ]
  },
  {
   "cell_type": "code",
   "execution_count": 2,
   "metadata": {},
   "outputs": [
    {
     "data": {
      "text/plain": [
       "8"
      ]
     },
     "execution_count": 2,
     "metadata": {},
     "output_type": "execute_result"
    }
   ],
   "source": [
    "myls2 = []\n",
    "for x in myls:\n",
    "    myls2.append(int(x, 2))  # convert binary to int"
   ]
  },
  {
   "cell_type": "code",
   "execution_count": 35,
   "metadata": {},
   "outputs": [],
   "source": [
    "counters = [0,0,0,0,0,0,0,0,0,0,0,0]\n",
    "for x in myls:\n",
    "    for q, y in enumerate(x):\n",
    "        if y == \"1\":\n",
    "            counters[q] += 1\n",
    "        else:\n",
    "            counters[q] -= 1\n",
    "        "
   ]
  },
  {
   "cell_type": "code",
   "execution_count": 39,
   "metadata": {},
   "outputs": [
    {
     "name": "stdout",
     "output_type": "stream",
     "text": [
      "3827\n",
      "268\n"
     ]
    }
   ],
   "source": [
    "res = \"\"\n",
    "res2 = \"\"\n",
    "for x in counters:\n",
    "    if x > 0:\n",
    "        res += \"1\"\n",
    "        res2 += \"0\"\n",
    "    else:\n",
    "        res += \"0\"\n",
    "        res2 += \"1\"\n",
    "        \n",
    "print(int(res, 2))\n",
    "print(int(res2, 2))"
   ]
  },
  {
   "cell_type": "code",
   "execution_count": 40,
   "metadata": {},
   "outputs": [
    {
     "data": {
      "text/plain": [
       "1025636"
      ]
     },
     "execution_count": 40,
     "metadata": {},
     "output_type": "execute_result"
    }
   ],
   "source": [
    "3827 * 268"
   ]
  },
  {
   "cell_type": "code",
   "execution_count": 42,
   "metadata": {},
   "outputs": [],
   "source": [
    "def most_common(ls, pos, tie=\"0\"):\n",
    "    \n",
    "    cnt0 = 0\n",
    "    cnt1 = 0\n",
    "    \n",
    "    for x in ls:\n",
    "        q = x[pos]\n",
    "        if q == \"1\":\n",
    "            cnt1 += 1\n",
    "        elif q == \"0\":\n",
    "            cnt0 += 1\n",
    "            \n",
    "    if cnt0 == cnt1:\n",
    "        return tie\n",
    "    elif cnt0 > cnt1:\n",
    "        return \"0\"\n",
    "    else:\n",
    "        return \"1\""
   ]
  },
  {
   "cell_type": "code",
   "execution_count": 45,
   "metadata": {},
   "outputs": [],
   "source": [
    "def least_common(ls, pos, tie=\"0\"):\n",
    "    \n",
    "    \"\"\"Very inelegant to have 2 functions\"\"\"\n",
    "    \n",
    "    cnt0 = 0\n",
    "    cnt1 = 0\n",
    "    \n",
    "    for x in ls:\n",
    "        q = x[pos]\n",
    "        if q == \"1\":\n",
    "            cnt1 += 1\n",
    "        elif q == \"0\":\n",
    "            cnt0 += 1\n",
    "            \n",
    "    if cnt0 == cnt1:\n",
    "        return tie\n",
    "    elif cnt0 < cnt1:\n",
    "        return \"0\"\n",
    "    else:\n",
    "        return \"1\""
   ]
  },
  {
   "cell_type": "code",
   "execution_count": 47,
   "metadata": {},
   "outputs": [
    {
     "name": "stdout",
     "output_type": "stream",
     "text": [
      "110000010001\n",
      "000100000001\n"
     ]
    }
   ],
   "source": [
    "C = None\n",
    "O = None\n",
    "\n",
    "myls1 = myls[:]\n",
    "index = 0\n",
    "while len(myls1) > 1:\n",
    "    mc = most_common(myls1, index, tie=\"1\")\n",
    "    myls1 = [x for x in filter(lambda x: x[index] == mc, myls1)]\n",
    "    index += 1\n",
    "O = myls1[0]\n",
    "print(myls1[0])\n",
    "\n",
    "myls1 = myls[:]\n",
    "index = 0\n",
    "while len(myls1) > 1:\n",
    "    mc = least_common(myls1, index, tie=\"0\")\n",
    "    myls1 = [x for x in filter(lambda x: x[index] == mc, myls1)]\n",
    "    index += 1\n",
    "C = myls1[0]\n",
    "print(myls1[0])"
   ]
  },
  {
   "cell_type": "code",
   "execution_count": 39,
   "metadata": {},
   "outputs": [
    {
     "data": {
      "text/plain": [
       "'110000010001'"
      ]
     },
     "execution_count": 39,
     "metadata": {},
     "output_type": "execute_result"
    }
   ],
   "source": [
    "O"
   ]
  },
  {
   "cell_type": "code",
   "execution_count": 40,
   "metadata": {},
   "outputs": [
    {
     "data": {
      "text/plain": [
       "'110000010001'"
      ]
     },
     "execution_count": 40,
     "metadata": {},
     "output_type": "execute_result"
    }
   ],
   "source": [
    "C"
   ]
  },
  {
   "cell_type": "code",
   "execution_count": 48,
   "metadata": {},
   "outputs": [
    {
     "data": {
      "text/plain": [
       "793873"
      ]
     },
     "execution_count": 48,
     "metadata": {},
     "output_type": "execute_result"
    }
   ],
   "source": [
    "int(O, 2) * int(C, 2)"
   ]
  },
  {
   "cell_type": "code",
   "execution_count": null,
   "metadata": {},
   "outputs": [],
   "source": [
    "#8190 low"
   ]
  }
 ],
 "metadata": {
  "kernelspec": {
   "display_name": "Python 3",
   "language": "python",
   "name": "python3"
  },
  "language_info": {
   "codemirror_mode": {
    "name": "ipython",
    "version": 3
   },
   "file_extension": ".py",
   "mimetype": "text/x-python",
   "name": "python",
   "nbconvert_exporter": "python",
   "pygments_lexer": "ipython3",
   "version": "3.8.1"
  }
 },
 "nbformat": 4,
 "nbformat_minor": 4
}
