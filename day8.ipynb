{
 "cells": [
  {
   "cell_type": "code",
   "execution_count": 6,
   "metadata": {},
   "outputs": [],
   "source": [
    "dat = []\n",
    "\n",
    "with open(\"input8.txt\", \"r\") as f:\n",
    "    for line in f.readlines():\n",
    "        a, b = line.rstrip(\"\\n\").split(\" | \")\n",
    "        dat.append((a.split(\" \"), b.split(\" \")))"
   ]
  },
  {
   "cell_type": "code",
   "execution_count": 8,
   "metadata": {},
   "outputs": [],
   "source": [
    "def is_1478(astr):\n",
    "    \n",
    "    a = len(astr)\n",
    "    return a == 2 or a == 4 or a == 3 or a == 7"
   ]
  },
  {
   "cell_type": "code",
   "execution_count": 12,
   "metadata": {},
   "outputs": [
    {
     "data": {
      "text/plain": [
       "512"
      ]
     },
     "execution_count": 12,
     "metadata": {},
     "output_type": "execute_result"
    }
   ],
   "source": [
    "cnt = 0\n",
    "for x in dat:\n",
    "    for y in x[1]:\n",
    "        if is_1478(y):\n",
    "            cnt += 1\n",
    "cnt"
   ]
  },
  {
   "cell_type": "code",
   "execution_count": 100,
   "metadata": {},
   "outputs": [],
   "source": [
    "possibly_valid = [\"abcefg\", \"cf\", \"acdeg\", \"acdfg\", \"bcdf\", \"abdfg\", \"abdefg\", \"acf\", \"abcdefg\", \"abcdfg\"]\n",
    "trans = {y:x for x, y in list(enumerate(possibly_valid))}"
   ]
  },
  {
   "cell_type": "code",
   "execution_count": 191,
   "metadata": {},
   "outputs": [],
   "source": [
    "from itertools import permutations\n",
    "\n",
    "def translate_str(astr, dc):\n",
    "    \n",
    "    out = \"\"\n",
    "    for x in astr:\n",
    "        out += dc[x]\n",
    "    return \"\".join(sorted(out))\n",
    "\n",
    "\n",
    "def all_dicts():\n",
    "    \n",
    "    a = \"abcdefg\"\n",
    "    perm = permutations(a)\n",
    "    for x in perm:\n",
    "        yield {i:j for i,j in zip(x, a)}\n",
    "        \n",
    "        \n",
    "def find_translation(als):\n",
    "    \n",
    "    q = all_dicts()\n",
    "    u = sorted(als, key=lambda x: len(x))\n",
    "    found = False\n",
    "    \n",
    "    while not found:\n",
    "        this_dc = next(q)\n",
    "        fnd = 0\n",
    "        for x in u:\n",
    "            t = translate_str(x, this_dc)      \n",
    "            if not t in canonical:\n",
    "                break\n",
    "            fnd += 1\n",
    "            if fnd == 8:\n",
    "                found = True\n",
    "            \n",
    "    return this_dc\n",
    "\n",
    "\n",
    "def sum_line(tup):\n",
    "    \n",
    "    a, b = tup\n",
    "    mapping = find_translation(a)\n",
    "    tot = \"\"\n",
    "    for x in b:\n",
    "        val = trans[translate_str(x, mapping)]\n",
    "        tot += str(val)\n",
    "        \n",
    "    return tot\n",
    "\n"
   ]
  },
  {
   "cell_type": "code",
   "execution_count": 218,
   "metadata": {},
   "outputs": [
    {
     "name": "stdout",
     "output_type": "stream",
     "text": [
      "Wall time: 784 ms\n"
     ]
    },
    {
     "data": {
      "text/plain": [
       "1091165"
      ]
     },
     "execution_count": 218,
     "metadata": {},
     "output_type": "execute_result"
    }
   ],
   "source": [
    "%%time\n",
    "\n",
    "tot = 0\n",
    "for x in dat:\n",
    "    tot += int(sum_line(x))\n",
    "tot"
   ]
  },
  {
   "cell_type": "code",
   "execution_count": null,
   "metadata": {},
   "outputs": [],
   "source": []
  }
 ],
 "metadata": {
  "kernelspec": {
   "display_name": "Python 3",
   "language": "python",
   "name": "python3"
  },
  "language_info": {
   "codemirror_mode": {
    "name": "ipython",
    "version": 3
   },
   "file_extension": ".py",
   "mimetype": "text/x-python",
   "name": "python",
   "nbconvert_exporter": "python",
   "pygments_lexer": "ipython3",
   "version": "3.8.1"
  }
 },
 "nbformat": 4,
 "nbformat_minor": 4
}
