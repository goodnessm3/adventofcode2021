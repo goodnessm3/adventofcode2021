{
 "cells": [
  {
   "cell_type": "code",
   "execution_count": 3,
   "metadata": {},
   "outputs": [],
   "source": [
    "from collections import defaultdict\n",
    "\n",
    "n = defaultdict(list)\n",
    "\n",
    "with open(\"input12.txt\", \"r\") as f:\n",
    "    for line in f.readlines():\n",
    "        a, b = line.rstrip(\"\\n\").split(\"-\")\n",
    "        n[a].append(b)\n",
    "        n[b].append(a)"
   ]
  },
  {
   "cell_type": "code",
   "execution_count": 17,
   "metadata": {},
   "outputs": [],
   "source": [
    "dummy = '''start-A\n",
    "start-b\n",
    "A-c\n",
    "A-b\n",
    "b-d\n",
    "A-end\n",
    "b-end'''\n",
    "\n",
    "dmy = defaultdict(list)\n",
    "for x in dummy.split(\"\\n\"):\n",
    "    a, b = x.split(\"-\")\n",
    "    dmy[a].append(b)\n",
    "    dmy[b].append(a)"
   ]
  },
  {
   "cell_type": "code",
   "execution_count": 18,
   "metadata": {},
   "outputs": [
    {
     "data": {
      "text/plain": [
       "defaultdict(list,\n",
       "            {'start': ['A', 'b'],\n",
       "             'A': ['start', 'c', 'b', 'end'],\n",
       "             'b': ['start', 'A', 'd', 'end'],\n",
       "             'c': ['A'],\n",
       "             'd': ['b'],\n",
       "             'end': ['A', 'b']})"
      ]
     },
     "execution_count": 18,
     "metadata": {},
     "output_type": "execute_result"
    }
   ],
   "source": [
    "dmy"
   ]
  },
  {
   "cell_type": "code",
   "execution_count": 36,
   "metadata": {},
   "outputs": [],
   "source": [
    "def explore(node, explored):\n",
    "    \n",
    "    ngs = n[node]\n",
    "    paths = 0\n",
    "    #print(explored)\n",
    "    \n",
    "    for x in ngs:\n",
    "        if x in explored and x.islower():\n",
    "            continue\n",
    "        if x == \"end\":\n",
    "            paths += 1\n",
    "        else:        \n",
    "            paths += explore(x, explored + [x])\n",
    "        \n",
    "    return paths"
   ]
  },
  {
   "cell_type": "code",
   "execution_count": 43,
   "metadata": {},
   "outputs": [
    {
     "data": {
      "text/plain": [
       "4411"
      ]
     },
     "execution_count": 43,
     "metadata": {},
     "output_type": "execute_result"
    }
   ],
   "source": [
    "explore(\"start\", [\"start\"])"
   ]
  },
  {
   "cell_type": "code",
   "execution_count": 52,
   "metadata": {},
   "outputs": [],
   "source": [
    "def explore2(node, explored, twice):\n",
    "    \n",
    "    ngs = dmy[node]\n",
    "    paths = 0\n",
    "    print(explored)\n",
    "    \n",
    "    for x in ngs:\n",
    "        if x == \"end\":\n",
    "            paths += 1\n",
    "            continue\n",
    "        if twice:\n",
    "            if x in explored and x.islower():\n",
    "                continue\n",
    "            else:        \n",
    "                paths += explore2(x, explored + [x], twice)\n",
    "        else:\n",
    "            if x == \"start\":\n",
    "                continue\n",
    "            if x in explored and x.islower():\n",
    "                twice = True\n",
    "                paths += explore2(x, explored + [x], twice)\n",
    "            else:\n",
    "                paths += explore2(x, explored + [x], twice)\n",
    "             \n",
    "    return paths"
   ]
  },
  {
   "cell_type": "code",
   "execution_count": 53,
   "metadata": {},
   "outputs": [
    {
     "name": "stdout",
     "output_type": "stream",
     "text": [
      "['start']\n",
      "['start', 'A']\n",
      "['start', 'A', 'c']\n",
      "['start', 'A', 'c', 'A']\n",
      "['start', 'A', 'c', 'A', 'c']\n",
      "['start', 'A', 'c', 'A', 'c', 'A']\n",
      "['start', 'A', 'c', 'A', 'c', 'A', 'b']\n",
      "['start', 'A', 'c', 'A', 'c', 'A', 'b', 'A']\n",
      "['start', 'A', 'c', 'A', 'c', 'A', 'b', 'd']\n",
      "['start', 'A', 'c', 'A', 'b']\n",
      "['start', 'A', 'c', 'A', 'b', 'A']\n",
      "['start', 'A', 'c', 'A', 'b', 'd']\n",
      "['start', 'A', 'b']\n",
      "['start', 'A', 'b', 'A']\n",
      "['start', 'A', 'b', 'A', 'c']\n",
      "['start', 'A', 'b', 'A', 'c', 'A']\n",
      "['start', 'A', 'b', 'A', 'c', 'A', 'c']\n",
      "['start', 'A', 'b', 'A', 'c', 'A', 'c', 'A']\n",
      "['start', 'A', 'b', 'A', 'b']\n",
      "['start', 'A', 'b', 'A', 'b', 'A']\n",
      "['start', 'A', 'b', 'A', 'b', 'A', 'c']\n",
      "['start', 'A', 'b', 'A', 'b', 'A', 'c', 'A']\n",
      "['start', 'A', 'b', 'A', 'b', 'd']\n",
      "['start', 'A', 'b', 'd']\n",
      "['start', 'A', 'b', 'd', 'b']\n",
      "['start', 'A', 'b', 'd', 'b', 'A']\n",
      "['start', 'A', 'b', 'd', 'b', 'A', 'c']\n",
      "['start', 'A', 'b', 'd', 'b', 'A', 'c', 'A']\n",
      "['start', 'b']\n",
      "['start', 'b', 'A']\n",
      "['start', 'b', 'A', 'c']\n",
      "['start', 'b', 'A', 'c', 'A']\n",
      "['start', 'b', 'A', 'c', 'A', 'c']\n",
      "['start', 'b', 'A', 'c', 'A', 'c', 'A']\n",
      "['start', 'b', 'A', 'b']\n",
      "['start', 'b', 'A', 'b', 'A']\n",
      "['start', 'b', 'A', 'b', 'A', 'c']\n",
      "['start', 'b', 'A', 'b', 'A', 'c', 'A']\n",
      "['start', 'b', 'A', 'b', 'd']\n",
      "['start', 'b', 'd']\n",
      "['start', 'b', 'd', 'b']\n",
      "['start', 'b', 'd', 'b', 'A']\n",
      "['start', 'b', 'd', 'b', 'A', 'c']\n",
      "['start', 'b', 'd', 'b', 'A', 'c', 'A']\n"
     ]
    },
    {
     "data": {
      "text/plain": [
       "27"
      ]
     },
     "execution_count": 53,
     "metadata": {},
     "output_type": "execute_result"
    }
   ],
   "source": [
    "explore2(\"start\", [\"start\"], False)"
   ]
  },
  {
   "cell_type": "code",
   "execution_count": null,
   "metadata": {},
   "outputs": [],
   "source": []
  }
 ],
 "metadata": {
  "kernelspec": {
   "display_name": "Python 3",
   "language": "python",
   "name": "python3"
  },
  "language_info": {
   "codemirror_mode": {
    "name": "ipython",
    "version": 3
   },
   "file_extension": ".py",
   "mimetype": "text/x-python",
   "name": "python",
   "nbconvert_exporter": "python",
   "pygments_lexer": "ipython3",
   "version": "3.8.1"
  }
 },
 "nbformat": 4,
 "nbformat_minor": 4
}
