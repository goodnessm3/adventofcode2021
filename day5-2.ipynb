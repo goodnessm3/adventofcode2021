{
 "cells": [
  {
   "cell_type": "code",
   "execution_count": 1,
   "metadata": {},
   "outputs": [],
   "source": [
    "def str2tup(astr):\n",
    "    \n",
    "    a, b = astr.split(\",\")\n",
    "    return((int(a), int(b)))\n",
    "\n",
    "nums = []\n",
    "with open(\"input5.txt\", \"r\") as f:\n",
    "    for x in f.readlines():\n",
    "        q = x.rstrip(\"\\n\")\n",
    "        start, fin = q.split(\" -> \")\n",
    "        nums.append((str2tup(start), str2tup(fin)))\n"
   ]
  },
  {
   "cell_type": "code",
   "execution_count": 33,
   "metadata": {},
   "outputs": [],
   "source": [
    "def fill_array(line):\n",
    "\n",
    "    a, b = line\n",
    "    x1, y1 = a\n",
    "    x2, y2 = b\n",
    "    \n",
    "    if x1 == x2:\n",
    "        # vertical\n",
    "        yrange = max(y2,y1) - min(y2,y1)\n",
    "        start = min(y1, y2)\n",
    "        end =  max(y1, y2)+1\n",
    "        for y in range(start, end):\n",
    "            arr[x1][y] += 1\n",
    "    elif y1 == y2:\n",
    "        # horizontal\n",
    "        xrange =  max(x2,x1) - min(x2,x1)\n",
    "        start = min(x1, x2)\n",
    "        end = max(x1, x2)+1\n",
    "        for x in range(start, end):\n",
    "            arr[x][y1] += 1\n",
    "    else:\n",
    "        return\n"
   ]
  },
  {
   "cell_type": "code",
   "execution_count": 34,
   "metadata": {},
   "outputs": [],
   "source": [
    "arr = [[0 for _ in range(1000)] for x in range(1000)]\n",
    "\n",
    "for x in nums:\n",
    "    fill_array(x)"
   ]
  },
  {
   "cell_type": "code",
   "execution_count": 35,
   "metadata": {},
   "outputs": [],
   "source": [
    "cnt = 0\n",
    "\n",
    "for x in range(1000):\n",
    "    for y in range(1000):\n",
    "        if arr[x][y] > 1:\n",
    "            cnt += 1"
   ]
  },
  {
   "cell_type": "code",
   "execution_count": 36,
   "metadata": {},
   "outputs": [
    {
     "data": {
      "text/plain": [
       "5145"
      ]
     },
     "execution_count": 36,
     "metadata": {},
     "output_type": "execute_result"
    }
   ],
   "source": [
    "cnt"
   ]
  },
  {
   "cell_type": "code",
   "execution_count": 44,
   "metadata": {},
   "outputs": [],
   "source": [
    "def fill_array2(line):\n",
    "    \n",
    "    #print(\"---\")\n",
    "    #print(\"line is\",  line)\n",
    "    a, b = line\n",
    "    x1, y1 = a\n",
    "    x2, y2 = b\n",
    "    \n",
    "    if x1 == x2:\n",
    "        # vertical\n",
    "        yrange = max(y2,y1) - min(y2,y1)\n",
    "        start = min(y1, y2)\n",
    "        end =  max(y1, y2)+1\n",
    "        for y in range(start, end):\n",
    "            arr[x1][y] += 1\n",
    "    elif y1 == y2:\n",
    "        # horizontal\n",
    "        xrange =  max(x2,x1) - min(x2,x1)\n",
    "        start = min(x1, x2)\n",
    "        end = max(x1, x2)+1\n",
    "        for x in range(start, end):\n",
    "            arr[x][y1] += 1\n",
    "    else:\n",
    "        if x2 > x1:\n",
    "            xinc = 1\n",
    "        else:\n",
    "            xinc = -1\n",
    "        if y2 > y1:\n",
    "            yinc = 1\n",
    "        else:\n",
    "            yinc = -1\n",
    "        \n",
    "        x = x1\n",
    "        y = y1\n",
    "        while not (x == x2+xinc and y == y2+yinc):\n",
    "            arr[x][y] += 1\n",
    "            x += xinc\n",
    "            y += yinc"
   ]
  },
  {
   "cell_type": "code",
   "execution_count": 45,
   "metadata": {},
   "outputs": [
    {
     "data": {
      "text/plain": [
       "16518"
      ]
     },
     "execution_count": 45,
     "metadata": {},
     "output_type": "execute_result"
    }
   ],
   "source": [
    "arr = [[0 for _ in range(1000)] for x in range(1000)]\n",
    "\n",
    "for x in nums:\n",
    "    fill_array2(x)\n",
    "    \n",
    "cnt = 0\n",
    "\n",
    "for x in range(1000):\n",
    "    for y in range(1000):\n",
    "        if arr[x][y] > 1:\n",
    "            cnt += 1\n",
    "            \n",
    "cnt"
   ]
  }
 ],
 "metadata": {
  "kernelspec": {
   "display_name": "Python 3",
   "language": "python",
   "name": "python3"
  },
  "language_info": {
   "codemirror_mode": {
    "name": "ipython",
    "version": 3
   },
   "file_extension": ".py",
   "mimetype": "text/x-python",
   "name": "python",
   "nbconvert_exporter": "python",
   "pygments_lexer": "ipython3",
   "version": "3.8.1"
  }
 },
 "nbformat": 4,
 "nbformat_minor": 4
}
