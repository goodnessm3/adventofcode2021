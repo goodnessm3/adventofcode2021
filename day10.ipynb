{
 "cells": [
  {
   "cell_type": "code",
   "execution_count": 3,
   "metadata": {},
   "outputs": [],
   "source": [
    "dat = []\n",
    "\n",
    "with open(\"input10.txt\", \"r\") as f:\n",
    "    for line in f.readlines():\n",
    "        dat.append(line.rstrip(\"\\n\"))\n",
    "        \n"
   ]
  },
  {
   "cell_type": "code",
   "execution_count": 12,
   "metadata": {},
   "outputs": [],
   "source": [
    "expected_dict = {\"<\":\">\", \"(\":\")\", \"[\":\"]\", \"{\": \"}\"}\n",
    "openers = [x for x in expected_dict.keys()]\n",
    "\n",
    "def detect_error(line):\n",
    "    \n",
    "    a = []\n",
    "    b = []\n",
    "    \n",
    "    for char in line:\n",
    "        if char in openers:\n",
    "            a.append(char)\n",
    "            b.append(expected_dict[char])\n",
    "        else:\n",
    "            c = a.pop()  # the last bracket opened\n",
    "            d = b.pop()  # the expected match\n",
    "            if not d == char:  # the closing pair for what we actually found just now\n",
    "                return(d, char)  #  expected d, found actual\n",
    "    \n",
    "    "
   ]
  },
  {
   "cell_type": "code",
   "execution_count": 18,
   "metadata": {},
   "outputs": [
    {
     "data": {
      "text/plain": [
       "278475"
      ]
     },
     "execution_count": 18,
     "metadata": {},
     "output_type": "execute_result"
    }
   ],
   "source": [
    "scores = {\">\":25137, \")\":3, \"]\":57, \"}\": 1197}\n",
    "\n",
    "score = 0\n",
    "for line in dat:\n",
    "    q = detect_error(line)\n",
    "    if q:\n",
    "        _, offender = q\n",
    "        score += scores[offender]\n",
    "        \n",
    "score"
   ]
  },
  {
   "cell_type": "code",
   "execution_count": 30,
   "metadata": {},
   "outputs": [],
   "source": [
    "def complete(line):\n",
    "    \n",
    "    # expects a valid line, we have already filtered out corrupted ones with the previous function\n",
    "    \n",
    "    a = []\n",
    "    b = []\n",
    "    \n",
    "    for char in line:\n",
    "        if char in openers:\n",
    "            a.append(char)\n",
    "            b.append(expected_dict[char])\n",
    "        else:\n",
    "            c = a.pop()  # the last bracket opened\n",
    "            d = b.pop()  # the expected match\n",
    "            \n",
    "    return \"\".join([expected_dict[j] for j in reversed(a)])"
   ]
  },
  {
   "cell_type": "code",
   "execution_count": 37,
   "metadata": {},
   "outputs": [],
   "source": [
    "scores_2 = {\">\":4, \")\":1, \"]\":2, \"}\": 3}\n",
    "\n",
    "def get_score(astr):\n",
    "    \n",
    "    score = 0\n",
    "    for x in astr:\n",
    "        score *= 5\n",
    "        score += scores_2[x]\n",
    "        \n",
    "    return score"
   ]
  },
  {
   "cell_type": "code",
   "execution_count": 41,
   "metadata": {},
   "outputs": [],
   "source": [
    "scores = []\n",
    "\n",
    "for line in dat:\n",
    "    if not detect_error(line):\n",
    "        scores.append(get_score(complete(line)))\n",
    "        \n",
    "scores.sort()"
   ]
  },
  {
   "cell_type": "code",
   "execution_count": 45,
   "metadata": {},
   "outputs": [
    {
     "data": {
      "text/plain": [
       "3015539998"
      ]
     },
     "execution_count": 45,
     "metadata": {},
     "output_type": "execute_result"
    }
   ],
   "source": [
    "scores[int((len(scores)-1)/2)]"
   ]
  },
  {
   "cell_type": "code",
   "execution_count": null,
   "metadata": {},
   "outputs": [],
   "source": []
  }
 ],
 "metadata": {
  "kernelspec": {
   "display_name": "Python 3",
   "language": "python",
   "name": "python3"
  },
  "language_info": {
   "codemirror_mode": {
    "name": "ipython",
    "version": 3
   },
   "file_extension": ".py",
   "mimetype": "text/x-python",
   "name": "python",
   "nbconvert_exporter": "python",
   "pygments_lexer": "ipython3",
   "version": "3.8.1"
  }
 },
 "nbformat": 4,
 "nbformat_minor": 4
}
