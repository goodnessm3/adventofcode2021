{
 "cells": [
  {
   "cell_type": "code",
   "execution_count": 122,
   "metadata": {},
   "outputs": [],
   "source": [
    "from collections import defaultdict\n",
    "\n",
    "sd = defaultdict(None)\n",
    "mystr = None\n",
    "\n",
    "with open(\"input14.txt\", \"r\") as f:\n",
    "    \n",
    "    lines = [x.rstrip(\"\\n\") for x in f.readlines()]\n",
    "    mystr = lines[0]\n",
    "    \n",
    "    for x in lines[2:]:\n",
    "        a, b = x.split(\" -> \")\n",
    "        sd[a] = b"
   ]
  },
  {
   "cell_type": "code",
   "execution_count": 123,
   "metadata": {},
   "outputs": [
    {
     "data": {
      "text/plain": [
       "'VFHKKOKKCPBONFHNPHPN'"
      ]
     },
     "execution_count": 123,
     "metadata": {},
     "output_type": "execute_result"
    }
   ],
   "source": [
    "mystr"
   ]
  },
  {
   "cell_type": "code",
   "execution_count": 24,
   "metadata": {},
   "outputs": [],
   "source": [
    "def substitute(s):\n",
    "    \n",
    "    out = \"\"\n",
    "    for x in range(len(s)-1):\n",
    "        key = s[x:x+2]\n",
    "        value = sd[key]\n",
    "        out += s[x]\n",
    "        out += value\n",
    "    out += s[-1]\n",
    "    \n",
    "    return out\n",
    "    \n",
    "    "
   ]
  },
  {
   "cell_type": "code",
   "execution_count": 29,
   "metadata": {},
   "outputs": [],
   "source": [
    "a = mystr\n",
    "\n",
    "for x in range(10):\n",
    "    \n",
    "    a = substitute(a)\n",
    "    \n",
    "# most common - least commmon\n",
    "\n",
    "count_dict = defaultdict(lambda: 0)\n",
    "\n",
    "for x in a:\n",
    "    count_dict[x] += 1\n",
    "    \n",
    "kys = [(x, count_dict[x]) for x in count_dict.keys()]"
   ]
  },
  {
   "cell_type": "code",
   "execution_count": 32,
   "metadata": {},
   "outputs": [
    {
     "data": {
      "text/plain": [
       "[('N', 597),\n",
       " ('K', 1096),\n",
       " ('F', 1303),\n",
       " ('C', 1385),\n",
       " ('V', 1850),\n",
       " ('O', 1917),\n",
       " ('P', 2147),\n",
       " ('H', 2526),\n",
       " ('S', 3051),\n",
       " ('B', 3585)]"
      ]
     },
     "execution_count": 32,
     "metadata": {},
     "output_type": "execute_result"
    }
   ],
   "source": [
    "kys.sort(key = lambda x:x[1])\n",
    "kys"
   ]
  },
  {
   "cell_type": "code",
   "execution_count": 33,
   "metadata": {},
   "outputs": [
    {
     "data": {
      "text/plain": [
       "2988"
      ]
     },
     "execution_count": 33,
     "metadata": {},
     "output_type": "execute_result"
    }
   ],
   "source": [
    "3585 - 597"
   ]
  },
  {
   "cell_type": "code",
   "execution_count": 91,
   "metadata": {},
   "outputs": [],
   "source": [
    "def countup(s):\n",
    "    \n",
    "    out = defaultdict(lambda: 0)\n",
    "    for x in range(len(s)-1):\n",
    "        key = s[x:x+2]\n",
    "        out[key] += 1\n",
    "    \n",
    "    return out"
   ]
  },
  {
   "cell_type": "code",
   "execution_count": 94,
   "metadata": {},
   "outputs": [],
   "source": [
    "def generation(adc):\n",
    "    \n",
    "    res = defaultdict(lambda: 0)\n",
    "    \n",
    "    for x in adc.keys():\n",
    "        val = adc[x]\n",
    "        n1 = x[0] + sd[x]\n",
    "        n2 = sd[x] + x[1]\n",
    "        res[n1] += val\n",
    "        res[n2] += val\n",
    "    return res\n",
    "        "
   ]
  },
  {
   "cell_type": "code",
   "execution_count": 136,
   "metadata": {},
   "outputs": [
    {
     "data": {
      "text/plain": [
       "defaultdict(<function __main__.counts_from_dict.<locals>.<lambda>()>,\n",
       "            {'V': 3699,\n",
       "             'P': 4294,\n",
       "             'B': 7170,\n",
       "             'C': 2770,\n",
       "             'S': 6102,\n",
       "             'O': 3834,\n",
       "             'H': 5052,\n",
       "             'K': 2192,\n",
       "             'F': 2606,\n",
       "             'N': 1193})"
      ]
     },
     "execution_count": 136,
     "metadata": {},
     "output_type": "execute_result"
    }
   ],
   "source": [
    "foo = countup(mystr)\n",
    "for _ in range(10):\n",
    "    foo = generation(foo)\n",
    "    \n",
    "counts_from_dict(foo)"
   ]
  },
  {
   "cell_type": "code",
   "execution_count": 108,
   "metadata": {},
   "outputs": [
    {
     "data": {
      "text/plain": [
       "597"
      ]
     },
     "execution_count": 108,
     "metadata": {},
     "output_type": "execute_result"
    }
   ],
   "source": [
    "1193 // 2 + 1  # for some reason it's floor division + 1? Or the ceiling of the division of the number"
   ]
  },
  {
   "cell_type": "code",
   "execution_count": 114,
   "metadata": {},
   "outputs": [
    {
     "data": {
      "text/plain": [
       "3585"
      ]
     },
     "execution_count": 114,
     "metadata": {},
     "output_type": "execute_result"
    }
   ],
   "source": [
    "7170 // 2"
   ]
  },
  {
   "cell_type": "code",
   "execution_count": 78,
   "metadata": {},
   "outputs": [],
   "source": [
    "def counts_from_dict(adc):\n",
    "    \n",
    "    \"\"\"take a dict of pairs:count and return the counts of individual letters, note these values have to\n",
    "    be divided by 2 because the letters are shared among pairs.\"\"\"\n",
    "    \n",
    "    res = defaultdict(lambda: 0)\n",
    "    for k, v in adc.items():\n",
    "        res[k[0]] += v\n",
    "        res[k[1]] += v\n",
    "        \n",
    "    return res"
   ]
  },
  {
   "cell_type": "code",
   "execution_count": 135,
   "metadata": {},
   "outputs": [
    {
     "data": {
      "text/plain": [
       "3572761917024"
      ]
     },
     "execution_count": 135,
     "metadata": {},
     "output_type": "execute_result"
    }
   ],
   "source": [
    "from math import ceil\n",
    "\n",
    "foo = countup(mystr)\n",
    "for _ in range(40):\n",
    "    foo = generation(foo)\n",
    "    \n",
    "mn = ceil(min(counts_from_dict(foo).values()) / 2)\n",
    "mx = ceil(max(counts_from_dict(foo).values()) / 2)\n",
    "\n",
    "# needs to be ceiling division for some reason involving counting the pairs\n",
    "\n",
    "mx - mn"
   ]
  },
  {
   "cell_type": "code",
   "execution_count": null,
   "metadata": {},
   "outputs": [],
   "source": []
  }
 ],
 "metadata": {
  "kernelspec": {
   "display_name": "Python 3",
   "language": "python",
   "name": "python3"
  },
  "language_info": {
   "codemirror_mode": {
    "name": "ipython",
    "version": 3
   },
   "file_extension": ".py",
   "mimetype": "text/x-python",
   "name": "python",
   "nbconvert_exporter": "python",
   "pygments_lexer": "ipython3",
   "version": "3.8.1"
  }
 },
 "nbformat": 4,
 "nbformat_minor": 4
}
