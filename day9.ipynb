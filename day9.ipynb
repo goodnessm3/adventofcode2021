{
 "cells": [
  {
   "cell_type": "code",
   "execution_count": 74,
   "id": "2b96eae6",
   "metadata": {},
   "outputs": [],
   "source": [
    "dat = \"\"\n",
    "\n",
    "with open(\"input9.txt\", \"r\") as f:\n",
    "    for line in f.readlines():\n",
    "        # print(len(line.rstrip(\"\\n\")))  # found out that the grid is 100 wide\n",
    "        dat += line.rstrip(\"\\n\")\n",
    "        \n",
    "dat = [int(x) for x in dat]\n"
   ]
  },
  {
   "cell_type": "code",
   "execution_count": 105,
   "id": "5a1a492f",
   "metadata": {},
   "outputs": [],
   "source": [
    "def nps(pos):\n",
    "    \n",
    "    \"\"\"A way to do it with a one dimensional array\"\"\"\n",
    "    \n",
    "    n = None\n",
    "    s = None\n",
    "    e = None\n",
    "    w = None\n",
    "    \n",
    "    if pos > 99:\n",
    "        n = pos - 100\n",
    "        \n",
    "    if pos < 9900:\n",
    "        s = pos + 100\n",
    "    \n",
    "    if not (pos + 1) % 100 == 0:\n",
    "        e = pos + 1\n",
    "        if e > 9999:\n",
    "            e = None\n",
    "        \n",
    "    if not (pos) % 100 == 0:\n",
    "        w = pos -1\n",
    "        if w < 0:\n",
    "            w = None\n",
    "        \n",
    "    return n, s, e, w\n",
    "\n",
    "def is_minimum(pos):\n",
    "    \n",
    "    indices = nps(pos)\n",
    "    this_val = dat[pos]\n",
    "    for x in indices:\n",
    "        if x:\n",
    "            if this_val >= dat[x]:  # definitely lower, not the same height\n",
    "                return 0\n",
    "    return this_val + 1  # puzzle wants val + 1\n"
   ]
  },
  {
   "cell_type": "code",
   "execution_count": 79,
   "id": "7279ed26",
   "metadata": {},
   "outputs": [],
   "source": [
    "dat2 = []\n",
    "\n",
    "with open(\"input9.txt\", \"r\") as f:\n",
    "    for line in f.readlines():\n",
    "        dat2.append([int(x) for x in line.rstrip(\"\\n\")])\n",
    "        \n"
   ]
  },
  {
   "cell_type": "code",
   "execution_count": 171,
   "id": "3b396c18",
   "metadata": {},
   "outputs": [],
   "source": [
    "def is_minimum_0(x, y):\n",
    "    \n",
    "    n = (x, y + 1)\n",
    "    s = (x, y - 1)\n",
    "    e = (x + 1, y)\n",
    "    w = (x - 1, y)\n",
    "    \n",
    "    use = []\n",
    "    \n",
    "    for f in(n, s, e, w):\n",
    "        drop = False\n",
    "        for p in f:\n",
    "            if p < 0 or p > 99:\n",
    "                drop = True\n",
    "        if not drop:\n",
    "            use.append(f)\n",
    "            \n",
    "    this_val = dat2[x][y]\n",
    "    \n",
    "    for pos in use:\n",
    "        if not pos:\n",
    "            continue\n",
    "        i, j = pos\n",
    "        if dat2[i][j] <= this_val:\n",
    "            return 0\n",
    "    return this_val + 1\n",
    "    "
   ]
  },
  {
   "cell_type": "code",
   "execution_count": 172,
   "id": "a6b02b85",
   "metadata": {},
   "outputs": [
    {
     "data": {
      "text/plain": [
       "600"
      ]
     },
     "execution_count": 172,
     "metadata": {},
     "output_type": "execute_result"
    }
   ],
   "source": [
    "tot = 0\n",
    "for x in range(len(dat2)):\n",
    "    for y in range(len(dat2[0])):\n",
    "        tot += is_minimum_0(x, y)\n",
    "tot"
   ]
  },
  {
   "cell_type": "code",
   "execution_count": 160,
   "id": "7073e60d",
   "metadata": {},
   "outputs": [],
   "source": [
    "def all_neighbours(x, y):\n",
    "    \n",
    "    n = (x, y + 1)\n",
    "    s = (x, y - 1)\n",
    "    e = (x + 1, y)\n",
    "    w = (x - 1, y)\n",
    "    \n",
    "    use = []\n",
    "    \n",
    "    for f in(n, s, e, w):\n",
    "        drop = False\n",
    "        for p in f:\n",
    "            if p < 0 or p > 99:\n",
    "                drop = True\n",
    "        if not drop:\n",
    "            use.append(f)\n",
    "            \n",
    "    return use  # a list of valid neighbour locations\n",
    "\n",
    "def is_minimum(x, y):\n",
    "    \n",
    "    \"changed to just be true or false check\"\n",
    "    \n",
    "    n = (x, y + 1)\n",
    "    s = (x, y - 1)\n",
    "    e = (x + 1, y)\n",
    "    w = (x - 1, y)\n",
    "    \n",
    "    use = []\n",
    "    \n",
    "    for f in(n, s, e, w):\n",
    "        drop = False\n",
    "        for p in f:\n",
    "            if p < 0 or p > 99:\n",
    "                drop = True\n",
    "        if not drop:\n",
    "            use.append(f)\n",
    "            \n",
    "    this_val = dat2[x][y]\n",
    "    \n",
    "    for pos in use:\n",
    "        if not pos:\n",
    "            continue\n",
    "        i, j = pos\n",
    "        if dat2[i][j] < this_val:\n",
    "            return False\n",
    "    return True"
   ]
  },
  {
   "cell_type": "code",
   "execution_count": 156,
   "id": "eba2d9c3",
   "metadata": {},
   "outputs": [],
   "source": [
    "def measure_basin(x, y):\n",
    "    \n",
    "    size = 1\n",
    "    found_more = True\n",
    "    l = set([(x, y)])\n",
    "    old_length = len(l)\n",
    "    visited = set()\n",
    "    \n",
    "    while True:\n",
    "\n",
    "        tmp = set()\n",
    "        ll = l - visited\n",
    "        for q in ll:\n",
    "            new = all_neighbours(*q)\n",
    "            visited.add(q)\n",
    "            for tup in new:\n",
    "                xx, yy = tup\n",
    "                if not dat2[xx][yy] == 9:\n",
    "                    tmp.add(tup)\n",
    "        l.update(tmp)\n",
    "        new_length = len(l)\n",
    "        if new_length == old_length:\n",
    "            return new_length\n",
    "        old_length = new_length"
   ]
  },
  {
   "cell_type": "code",
   "execution_count": 161,
   "id": "09a303f9",
   "metadata": {},
   "outputs": [],
   "source": [
    "basin_sizes = []\n",
    "\n",
    "for x in range(len(dat2)):\n",
    "    for y in range(len(dat2[0])):\n",
    "        if is_minimum(x, y):\n",
    "            basin_sizes.append(measure_basin(x, y))"
   ]
  },
  {
   "cell_type": "code",
   "execution_count": 164,
   "id": "fd4667e9",
   "metadata": {},
   "outputs": [
    {
     "data": {
      "text/plain": [
       "[96, 98, 105]"
      ]
     },
     "execution_count": 164,
     "metadata": {},
     "output_type": "execute_result"
    }
   ],
   "source": [
    "sorted(basin_sizes)[-3:]"
   ]
  },
  {
   "cell_type": "code",
   "execution_count": 163,
   "id": "d7a4afeb",
   "metadata": {},
   "outputs": [
    {
     "data": {
      "text/plain": [
       "987840"
      ]
     },
     "execution_count": 163,
     "metadata": {},
     "output_type": "execute_result"
    }
   ],
   "source": [
    "105 * 98 * 96"
   ]
  },
  {
   "cell_type": "code",
   "execution_count": null,
   "id": "e7830fba",
   "metadata": {},
   "outputs": [],
   "source": []
  }
 ],
 "metadata": {
  "kernelspec": {
   "display_name": "Python 3",
   "language": "python",
   "name": "python3"
  },
  "language_info": {
   "codemirror_mode": {
    "name": "ipython",
    "version": 3
   },
   "file_extension": ".py",
   "mimetype": "text/x-python",
   "name": "python",
   "nbconvert_exporter": "python",
   "pygments_lexer": "ipython3",
   "version": "3.8.8"
  }
 },
 "nbformat": 4,
 "nbformat_minor": 5
}
