{
 "cells": [
  {
   "cell_type": "code",
   "execution_count": 2,
   "metadata": {},
   "outputs": [],
   "source": [
    "def load_data(fname):\n",
    "\n",
    "    dat = []\n",
    "    with open(fname, \"r\") as f:\n",
    "        for line in f.readlines():\n",
    "            dat.append([int(x) for x in line.rstrip(\"\\n\")])\n",
    "    return dat\n",
    "\n"
   ]
  },
  {
   "cell_type": "code",
   "execution_count": 3,
   "metadata": {},
   "outputs": [
    {
     "data": {
      "text/plain": [
       "[[4, 8, 7, 1, 2, 5, 2, 7, 6, 3],\n",
       " [8, 5, 3, 3, 4, 2, 8, 1, 7, 3],\n",
       " [7, 1, 8, 2, 1, 8, 6, 8, 1, 3],\n",
       " [2, 1, 2, 8, 4, 4, 1, 5, 4, 1],\n",
       " [3, 7, 2, 2, 2, 7, 2, 2, 7, 2],\n",
       " [8, 7, 5, 1, 6, 8, 3, 4, 4, 3],\n",
       " [3, 1, 3, 5, 5, 7, 1, 1, 5, 3],\n",
       " [5, 8, 1, 6, 3, 2, 1, 5, 7, 2],\n",
       " [2, 6, 5, 1, 3, 4, 7, 2, 7, 1],\n",
       " [7, 7, 8, 8, 1, 5, 4, 2, 5, 2]]"
      ]
     },
     "execution_count": 3,
     "metadata": {},
     "output_type": "execute_result"
    }
   ],
   "source": [
    "dat"
   ]
  },
  {
   "cell_type": "code",
   "execution_count": 11,
   "metadata": {},
   "outputs": [],
   "source": [
    "flashes = set()\n",
    "\n",
    "def inc(arr):\n",
    "    \n",
    "    for x in range(len(arr)):\n",
    "        for y in range(len(arr)):\n",
    "            arr[x][y] += 1\n",
    "            \n",
    "def flash(arr):\n",
    "    \n",
    "    flashed = 0\n",
    "    ngh = []\n",
    "    done = set()\n",
    "    \n",
    "    while True:\n",
    "        len1 = len(done)\n",
    "        for x in range(len(arr)):\n",
    "            for y in range(len(arr)):\n",
    "                if arr[x][y] > 9 and not (x,y) in done:\n",
    "                    ngh.extend(get_neighbours(x, y))\n",
    "                    done.add((x,y))\n",
    "\n",
    "        for tup in ngh:\n",
    "            a, b = tup\n",
    "            arr[a][b] += 1\n",
    "        ngh = []\n",
    "            \n",
    "        len2 = len(done)\n",
    "        if len2 == len1:\n",
    "            break\n",
    "            \n",
    "    return len(done)\n",
    "                \n",
    "\n",
    "def reset(arr):\n",
    "    \n",
    "    for x in range(len(arr)):\n",
    "        for y in range(len(arr)):\n",
    "            if arr[x][y] > 9:\n",
    "                arr[x][y] = 0\n",
    " \n",
    "            \n",
    "def get_neighbours(x, y):\n",
    "    \n",
    "    def b(num):\n",
    "    \n",
    "        if num < 0:\n",
    "            return\n",
    "        elif num > 9:\n",
    "            return\n",
    "        else:\n",
    "            return num\n",
    "    \n",
    "    outx = []\n",
    "    outy = []\n",
    "    out = []\n",
    "    \n",
    "    for q in range(-1,2):\n",
    "        j = b(x + q)\n",
    "        if j is not None:\n",
    "            outx.append(j)\n",
    "        j = b(y + q)\n",
    "        if j is not None:\n",
    "            outy.append(j)\n",
    "        \n",
    "    for z in outx:\n",
    "        out.append([(z, m) for m in outy if not (z, m) == (x, y)])\n",
    "        \n",
    "    out2 = []\n",
    "    for r in out:\n",
    "        for t in r:\n",
    "            out2.append(t)\n",
    "    return out2\n",
    "    \n",
    "\n",
    "\n",
    "def all_coords():\n",
    "    \n",
    "    out = []\n",
    "    for x in range(10):\n",
    "        out.extend([(x, y) for y in range(10)])\n",
    "    return out"
   ]
  },
  {
   "cell_type": "code",
   "execution_count": 13,
   "metadata": {},
   "outputs": [
    {
     "data": {
      "text/plain": [
       "1747"
      ]
     },
     "execution_count": 13,
     "metadata": {},
     "output_type": "execute_result"
    }
   ],
   "source": [
    "dat = load_data(\"input11.txt\")\n",
    "count = 0\n",
    "\n",
    "for _ in range(100):\n",
    "\n",
    "    inc(dat) \n",
    "    count += flash(dat)\n",
    "    reset(dat)\n",
    "    \n",
    "count"
   ]
  },
  {
   "cell_type": "code",
   "execution_count": 14,
   "metadata": {},
   "outputs": [],
   "source": [
    "def all_flashed(arr):\n",
    "    \n",
    "    for x in range(len(arr)):\n",
    "        for y in range(len(arr)):\n",
    "            if not arr[x][y] == 0:\n",
    "                return False\n",
    "    return True"
   ]
  },
  {
   "cell_type": "code",
   "execution_count": 16,
   "metadata": {},
   "outputs": [
    {
     "data": {
      "text/plain": [
       "505"
      ]
     },
     "execution_count": 16,
     "metadata": {},
     "output_type": "execute_result"
    }
   ],
   "source": [
    "dat = load_data(\"input11.txt\")\n",
    "count = 0\n",
    "\n",
    "while not all_flashed(dat):\n",
    "\n",
    "    inc(dat)\n",
    "    flash(dat)\n",
    "    reset(dat)\n",
    "    count += 1\n",
    "    \n",
    "count"
   ]
  }
 ],
 "metadata": {
  "kernelspec": {
   "display_name": "Python 3",
   "language": "python",
   "name": "python3"
  },
  "language_info": {
   "codemirror_mode": {
    "name": "ipython",
    "version": 3
   },
   "file_extension": ".py",
   "mimetype": "text/x-python",
   "name": "python",
   "nbconvert_exporter": "python",
   "pygments_lexer": "ipython3",
   "version": "3.8.1"
  }
 },
 "nbformat": 4,
 "nbformat_minor": 4
}
