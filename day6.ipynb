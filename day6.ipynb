{
 "cells": [
  {
   "cell_type": "code",
   "execution_count": 30,
   "metadata": {},
   "outputs": [],
   "source": [
    "nums = None\n",
    "\n",
    "with open(\"input6.txt\", \"r\") as f:\n",
    "    data = f.read()\n",
    "    nums = [int(x) for x in data.rstrip(\"\\n\").split(\",\")]"
   ]
  },
  {
   "cell_type": "code",
   "execution_count": 15,
   "metadata": {},
   "outputs": [],
   "source": [
    "def generation(als):\n",
    "    \n",
    "    new = []\n",
    "    for x in als:\n",
    "        x -= 1\n",
    "        if x == -1:\n",
    "            new.append(6)\n",
    "            new.append(8)\n",
    "        else:\n",
    "            new.append(x)\n",
    "            \n",
    "    return new"
   ]
  },
  {
   "cell_type": "code",
   "execution_count": 9,
   "metadata": {},
   "outputs": [],
   "source": [
    "g1 = [3,4,3,1,2]"
   ]
  },
  {
   "cell_type": "code",
   "execution_count": 18,
   "metadata": {},
   "outputs": [
    {
     "data": {
      "text/plain": [
       "352151"
      ]
     },
     "execution_count": 18,
     "metadata": {},
     "output_type": "execute_result"
    }
   ],
   "source": [
    "for x in range(80):\n",
    "    nums = generation(nums)\n",
    "len(nums)    "
   ]
  },
  {
   "cell_type": "code",
   "execution_count": 31,
   "metadata": {},
   "outputs": [],
   "source": [
    "def bucketize(als):\n",
    "    \n",
    "    buckets = [0 for _ in range(9)]\n",
    "    for x in als:\n",
    "        buckets[x] += 1\n",
    "    return buckets\n",
    "        "
   ]
  },
  {
   "cell_type": "code",
   "execution_count": 32,
   "metadata": {},
   "outputs": [],
   "source": [
    "def bgeneration(buckets):\n",
    "    \n",
    "    zeros = buckets.pop(0)\n",
    "    buckets[6] += zeros\n",
    "    buckets.append(zeros)\n",
    "    \n",
    "    return(buckets)"
   ]
  },
  {
   "cell_type": "code",
   "execution_count": 33,
   "metadata": {},
   "outputs": [],
   "source": [
    "b1 = bucketize(nums)"
   ]
  },
  {
   "cell_type": "code",
   "execution_count": 34,
   "metadata": {},
   "outputs": [
    {
     "data": {
      "text/plain": [
       "1601616884019"
      ]
     },
     "execution_count": 34,
     "metadata": {},
     "output_type": "execute_result"
    }
   ],
   "source": [
    "for x in range(256):\n",
    "    b1 = bgeneration(b1)\n",
    "    \n",
    "sum(b1)"
   ]
  },
  {
   "cell_type": "code",
   "execution_count": null,
   "metadata": {},
   "outputs": [],
   "source": []
  },
  {
   "cell_type": "code",
   "execution_count": null,
   "metadata": {},
   "outputs": [],
   "source": []
  }
 ],
 "metadata": {
  "kernelspec": {
   "display_name": "Python 3",
   "language": "python",
   "name": "python3"
  },
  "language_info": {
   "codemirror_mode": {
    "name": "ipython",
    "version": 3
   },
   "file_extension": ".py",
   "mimetype": "text/x-python",
   "name": "python",
   "nbconvert_exporter": "python",
   "pygments_lexer": "ipython3",
   "version": "3.8.1"
  }
 },
 "nbformat": 4,
 "nbformat_minor": 4
}
