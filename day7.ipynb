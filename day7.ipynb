{
 "cells": [
  {
   "cell_type": "code",
   "execution_count": 3,
   "metadata": {},
   "outputs": [],
   "source": [
    "with open(\"input7.txt\", \"r\") as f:\n",
    "    data = [int(x) for x in f.read().rstrip(\"\\n\").split(\",\")]"
   ]
  },
  {
   "cell_type": "code",
   "execution_count": 4,
   "metadata": {},
   "outputs": [
    {
     "data": {
      "text/plain": [
       "1000"
      ]
     },
     "execution_count": 4,
     "metadata": {},
     "output_type": "execute_result"
    }
   ],
   "source": [
    "len(data)"
   ]
  },
  {
   "cell_type": "code",
   "execution_count": 17,
   "metadata": {},
   "outputs": [
    {
     "data": {
      "text/plain": [
       "359648"
      ]
     },
     "execution_count": 17,
     "metadata": {},
     "output_type": "execute_result"
    }
   ],
   "source": [
    "data.sort()\n",
    "minimum = 10000000\n",
    "\n",
    "for x in range(max(data)):\n",
    "    \n",
    "    # determine value in list that equals x\n",
    "    index = 0  # smallest first\n",
    "    value = 0\n",
    "    while value < x:\n",
    "        value = data[index]\n",
    "        index += 1 \n",
    "        \n",
    "    left = data[0:index]\n",
    "    right = data[index:]\n",
    "    lvalue = sum([abs(q-x) for q in left])\n",
    "    rvalue = sum([abs(q-x) for q in right])\n",
    "\n",
    "    total = lvalue + rvalue\n",
    "    if total < minimum:\n",
    "        minimum = total\n",
    "\n",
    "minimum"
   ]
  },
  {
   "cell_type": "code",
   "execution_count": 28,
   "metadata": {},
   "outputs": [],
   "source": [
    "data.sort()"
   ]
  },
  {
   "cell_type": "code",
   "execution_count": 7,
   "metadata": {},
   "outputs": [],
   "source": [
    "def total_cost_old(num):\n",
    "    \n",
    "    return sum(range(num+1))\n",
    "\n",
    "def total_cost(num):\n",
    "    \n",
    "    return (num * (num + 1) / 2)"
   ]
  },
  {
   "cell_type": "code",
   "execution_count": 29,
   "metadata": {},
   "outputs": [
    {
     "name": "stdout",
     "output_type": "stream",
     "text": [
      "Wall time: 631 ms\n"
     ]
    },
    {
     "data": {
      "text/plain": [
       "100727924.0"
      ]
     },
     "execution_count": 29,
     "metadata": {},
     "output_type": "execute_result"
    }
   ],
   "source": [
    "%%time\n",
    "minimum = 100000000000\n",
    "\n",
    "for x in range(max(data)):\n",
    "    \n",
    "    # determine value in list that equals x\n",
    "    index = 0  # smallest first\n",
    "    value = 0\n",
    "    while value < x:\n",
    "        value = data[index]\n",
    "        index += 1 \n",
    "        \n",
    "    left = data[0:index]\n",
    "    right = data[index:]\n",
    "    lvalue = sum([total_cost(abs(q-x)) for q in left])\n",
    "    rvalue = sum([total_cost(abs(q-x)) for q in right])\n",
    "\n",
    "    total = lvalue + rvalue\n",
    "    if total < minimum:\n",
    "        minimum = total\n",
    "\n",
    "minimum"
   ]
  },
  {
   "cell_type": "code",
   "execution_count": 27,
   "metadata": {},
   "outputs": [
    {
     "name": "stdout",
     "output_type": "stream",
     "text": [
      "112197297\n"
     ]
    }
   ],
   "source": [
    "x = data[500]\n",
    "lvalue = sum([total_cost(abs(q-x)) for q in left])\n",
    "rvalue = sum([total_cost(abs(q-x)) for q in right])\n",
    "print(lvalue + rvalue)  # it's not simply the median, although apparently is for some people"
   ]
  },
  {
   "cell_type": "code",
   "execution_count": 20,
   "metadata": {},
   "outputs": [],
   "source": [
    "def cost(position):\n",
    "    \n",
    "    # determine value in list that equals x\n",
    "    index = 0  # smallest first\n",
    "    value = 0\n",
    "    while value < position:\n",
    "        value = data[index]\n",
    "        index += 1 \n",
    "        \n",
    "    left = data[0:index]\n",
    "    right = data[index:]\n",
    "    lvalue = sum([total_cost(abs(q-position)) for q in left])\n",
    "    rvalue = sum([total_cost(abs(q-position)) for q in right])\n",
    "\n",
    "    return lvalue + rvalue\n",
    "\n",
    "def direction(position):\n",
    "    \n",
    "    a = cost(position)\n",
    "    b = cost(position + 1)\n",
    "\n",
    "    inc = 2\n",
    "    while b == a: # to the right\n",
    "        b = cost(position + inc)\n",
    "        inc += 1\n",
    "        \n",
    "    if b > a:\n",
    "        return -1\n",
    "    else:\n",
    "        return 1\n",
    "\n"
   ]
  },
  {
   "cell_type": "code",
   "execution_count": 27,
   "metadata": {},
   "outputs": [
    {
     "name": "stdout",
     "output_type": "stream",
     "text": [
      "100727924.0\n",
      "Wall time: 6 ms\n"
     ]
    }
   ],
   "source": [
    "%%time\n",
    "pos = 10\n",
    "d = direction(pos)\n",
    "inc = len(data)-10\n",
    "\n",
    "while inc > 1:\n",
    "    pos = pos + d * inc\n",
    "    inc //= 2\n",
    "    d = direction(pos)\n",
    "    \n",
    "print(cost(pos))\n",
    "\n",
    "# binary search is much faster!\n"
   ]
  }
 ],
 "metadata": {
  "kernelspec": {
   "display_name": "Python 3",
   "language": "python",
   "name": "python3"
  },
  "language_info": {
   "codemirror_mode": {
    "name": "ipython",
    "version": 3
   },
   "file_extension": ".py",
   "mimetype": "text/x-python",
   "name": "python",
   "nbconvert_exporter": "python",
   "pygments_lexer": "ipython3",
   "version": "3.8.1"
  }
 },
 "nbformat": 4,
 "nbformat_minor": 4
}
