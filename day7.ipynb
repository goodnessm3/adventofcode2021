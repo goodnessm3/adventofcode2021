{
 "cells": [
  {
   "cell_type": "code",
   "execution_count": 1,
   "metadata": {},
   "outputs": [],
   "source": [
    "with open(\"input7.txt\", \"r\") as f:\n",
    "    data = [int(x) for x in f.read().rstrip(\"\\n\").split(\",\")]"
   ]
  },
  {
   "cell_type": "code",
   "execution_count": 3,
   "metadata": {},
   "outputs": [
    {
     "data": {
      "text/plain": [
       "1000"
      ]
     },
     "execution_count": 3,
     "metadata": {},
     "output_type": "execute_result"
    }
   ],
   "source": [
    "len(data)"
   ]
  },
  {
   "cell_type": "code",
   "execution_count": 17,
   "metadata": {},
   "outputs": [
    {
     "data": {
      "text/plain": [
       "359648"
      ]
     },
     "execution_count": 17,
     "metadata": {},
     "output_type": "execute_result"
    }
   ],
   "source": [
    "data.sort()\n",
    "minimum = 10000000\n",
    "\n",
    "for x in range(max(data)):\n",
    "    \n",
    "    # determine value in list that equals x\n",
    "    index = 0  # smallest first\n",
    "    value = 0\n",
    "    while value < x:\n",
    "        value = data[index]\n",
    "        index += 1 \n",
    "        \n",
    "    left = data[0:index]\n",
    "    right = data[index:]\n",
    "    lvalue = sum([abs(q-x) for q in left])\n",
    "    rvalue = sum([abs(q-x) for q in right])\n",
    "\n",
    "    total = lvalue + rvalue\n",
    "    if total < minimum:\n",
    "        minimum = total\n",
    "\n",
    "minimum"
   ]
  },
  {
   "cell_type": "code",
   "execution_count": 5,
   "metadata": {},
   "outputs": [],
   "source": [
    "data.sort()"
   ]
  },
  {
   "cell_type": "code",
   "execution_count": 22,
   "metadata": {},
   "outputs": [],
   "source": [
    "def total_cost(num):\n",
    "    \n",
    "    return sum(range(num+1))"
   ]
  },
  {
   "cell_type": "code",
   "execution_count": 26,
   "metadata": {},
   "outputs": [
    {
     "data": {
      "text/plain": [
       "100727924"
      ]
     },
     "execution_count": 26,
     "metadata": {},
     "output_type": "execute_result"
    }
   ],
   "source": [
    "data.sort()\n",
    "minimum = 100000000000\n",
    "\n",
    "for x in range(max(data)):\n",
    "    \n",
    "    # determine value in list that equals x\n",
    "    index = 0  # smallest first\n",
    "    value = 0\n",
    "    while value < x:\n",
    "        value = data[index]\n",
    "        index += 1 \n",
    "        \n",
    "    left = data[0:index]\n",
    "    right = data[index:]\n",
    "    lvalue = sum([total_cost(abs(q-x)) for q in left])\n",
    "    rvalue = sum([total_cost(abs(q-x)) for q in right])\n",
    "\n",
    "    total = lvalue + rvalue\n",
    "    if total < minimum:\n",
    "        minimum = total\n",
    "\n",
    "minimum"
   ]
  },
  {
   "cell_type": "code",
   "execution_count": null,
   "metadata": {},
   "outputs": [],
   "source": []
  }
 ],
 "metadata": {
  "kernelspec": {
   "display_name": "Python 3",
   "language": "python",
   "name": "python3"
  },
  "language_info": {
   "codemirror_mode": {
    "name": "ipython",
    "version": 3
   },
   "file_extension": ".py",
   "mimetype": "text/x-python",
   "name": "python",
   "nbconvert_exporter": "python",
   "pygments_lexer": "ipython3",
   "version": "3.8.1"
  }
 },
 "nbformat": 4,
 "nbformat_minor": 4
}
