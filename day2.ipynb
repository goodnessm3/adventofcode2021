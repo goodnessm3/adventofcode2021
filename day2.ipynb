{
 "cells": [
  {
   "cell_type": "code",
   "execution_count": 19,
   "metadata": {},
   "outputs": [],
   "source": [
    "lns = []\n",
    "with open(\"input2.txt\", \"r\") as f:\n",
    "    for x in f.readlines():\n",
    "        lns.append(x.rstrip(\"\\n\"))"
   ]
  },
  {
   "cell_type": "code",
   "execution_count": 20,
   "metadata": {},
   "outputs": [
    {
     "name": "stdout",
     "output_type": "stream",
     "text": [
      "1499229\n"
     ]
    }
   ],
   "source": [
    "x = 0\n",
    "y = 0\n",
    "for q in lns:\n",
    "    direction, amount = q.split(\" \")\n",
    "    amount = int(amount)\n",
    "    \n",
    "    if direction == \"forward\":\n",
    "        x += amount\n",
    "    elif direction == \"up\":\n",
    "        y -= amount\n",
    "    elif direction == \"down\":\n",
    "        y += amount\n",
    "        \n",
    "print(x * y)"
   ]
  },
  {
   "cell_type": "code",
   "execution_count": 21,
   "metadata": {},
   "outputs": [
    {
     "name": "stdout",
     "output_type": "stream",
     "text": [
      "1340836560\n"
     ]
    }
   ],
   "source": [
    "x = 0\n",
    "y = 0\n",
    "a = 0\n",
    "for q in lns:\n",
    "    direction, amount = q.split(\" \")\n",
    "    amount = int(amount)\n",
    "    \n",
    "    if direction == \"forward\":\n",
    "        x += amount\n",
    "        y += a * amount\n",
    "    elif direction == \"up\":\n",
    "        a -= amount\n",
    "    elif direction == \"down\":\n",
    "        a += amount\n",
    "        \n",
    "print(x * y)"
   ]
  },
  {
   "cell_type": "code",
   "execution_count": null,
   "metadata": {},
   "outputs": [],
   "source": []
  }
 ],
 "metadata": {
  "kernelspec": {
   "display_name": "Python 3",
   "language": "python",
   "name": "python3"
  },
  "language_info": {
   "codemirror_mode": {
    "name": "ipython",
    "version": 3
   },
   "file_extension": ".py",
   "mimetype": "text/x-python",
   "name": "python",
   "nbconvert_exporter": "python",
   "pygments_lexer": "ipython3",
   "version": "3.8.1"
  }
 },
 "nbformat": 4,
 "nbformat_minor": 4
}
